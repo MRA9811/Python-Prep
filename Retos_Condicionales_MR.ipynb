{
  "nbformat": 4,
  "nbformat_minor": 0,
  "metadata": {
    "colab": {
      "provenance": [],
      "include_colab_link": true
    },
    "kernelspec": {
      "name": "python3",
      "display_name": "Python 3"
    },
    "language_info": {
      "name": "python"
    }
  },
  "cells": [
    {
      "cell_type": "markdown",
      "metadata": {
        "id": "view-in-github",
        "colab_type": "text"
      },
      "source": [
        "<a href=\"https://colab.research.google.com/github/MRA9811/Python-Prep/blob/main/Retos_Condicionales_MR.ipynb\" target=\"_parent\"><img src=\"https://colab.research.google.com/assets/colab-badge.svg\" alt=\"Open In Colab\"/></a>"
      ]
    },
    {
      "cell_type": "markdown",
      "source": [
        "**Reto 1 - Número par o impar....**\n",
        "Ejercicio: Escribe un programa que solicite un número entero al usuario e indique si es par o impar.\n",
        "\n",
        "\n",
        "\n",
        "\n",
        "\n",
        "\n"
      ],
      "metadata": {
        "id": "xdmVr0ckMyn2"
      }
    },
    {
      "cell_type": "code",
      "source": [
        "numero = int(input(\"Introduce un número: \"))\n",
        "\n",
        "if  numero % 2 == 0: # Evalua la condicion\n",
        "   print(\"El número es par\") # Entra a ejecutar esta linea si cumple la condicion\n",
        "else:\n",
        "   print(\"El numero es Impar\")"
      ],
      "metadata": {
        "id": "aN3FvfR9NAm1",
        "colab": {
          "base_uri": "https://localhost:8080/"
        },
        "outputId": "328f6e23-fbda-4faf-a6b7-4d53409e502b"
      },
      "execution_count": null,
      "outputs": [
        {
          "output_type": "stream",
          "name": "stdout",
          "text": [
            "Introduce un número: 9\n",
            "El número es impar\n"
          ]
        }
      ]
    },
    {
      "cell_type": "markdown",
      "source": [
        "**Reto 2 - Calificación escolar....**\n",
        "Ejercicio: Escribe un programa que solicite una calificación numérica (0-100) y muestre si el estudiante aprobó o reprobó (considerando que 60 es la calificación mínima para aprobar).\n"
      ],
      "metadata": {
        "id": "09qN2v4iM_Gt"
      }
    },
    {
      "cell_type": "code",
      "execution_count": 3,
      "metadata": {
        "id": "7E6YUJVWV6Jq",
        "colab": {
          "base_uri": "https://localhost:8080/"
        },
        "outputId": "d58741b7-587e-4110-87da-63392d4c7b24"
      },
      "outputs": [
        {
          "output_type": "stream",
          "name": "stdout",
          "text": [
            "Introduce la calificacion en un rango de (0-100):\\ 55\n",
            "Reprobado\n"
          ]
        }
      ],
      "source": [
        "calificacion = int(input(\"Introduce la calificacion en un rango de (0-100):\\n \"))\n",
        "\n",
        "if not 0 <= calificacion <= 100:\n",
        "  print(\"Error. Ingrese un numero dentro del rango\")\n",
        "else:\n",
        "  if calificacion < 60:\n",
        "    print(\"Reprobado\")\n",
        "  else:\n",
        "    print(\"Aprobado\")\n",
        "\n",
        "\n"
      ]
    },
    {
      "cell_type": "markdown",
      "source": [
        "**Reto 3 - Mayor de tres números...**\n",
        "Ejercicio: Escribe un programa que solicite tres números e indique cuál de ellos es el mayor.\n",
        "\n"
      ],
      "metadata": {
        "id": "mC2Vcf2yYALH"
      }
    },
    {
      "cell_type": "code",
      "source": [
        "a = float(input(\"Introduce el primer número:\\n \"))\n",
        "b = float(input(\"Introduce el segundo número:\\n \"))\n",
        "c = float(input(\"Introduce el tercer número:\\n \"))\n",
        "\n",
        "if a > b and c < a:\n",
        "    print(\"El primer número es el mayor\")\n",
        "elif b > a and c < b:\n",
        "    print(\"El segundo número es el mayor\")\n",
        "else:\n",
        "    print(\"El tercer número es el mayor\")"
      ],
      "metadata": {
        "id": "dK2JSiphYIP6",
        "colab": {
          "base_uri": "https://localhost:8080/"
        },
        "outputId": "b2e22173-5b4e-462c-cba9-dd67b7827756"
      },
      "execution_count": 9,
      "outputs": [
        {
          "output_type": "stream",
          "name": "stdout",
          "text": [
            "Introduce el primer número:\n",
            " 2\n",
            "Introduce el segundo número:\n",
            " 3\n",
            "Introduce el tercer número:\n",
            " 1\n",
            "El segundo número es el mayor\n"
          ]
        }
      ]
    },
    {
      "cell_type": "markdown",
      "source": [
        "**Reto 4 - Clasificación por edades...**\n",
        "Ejercicio: Escribe un programa que solicite la edad de una persona y muestre si es \"Niño\" (0-12 años), \"Adolescente\" (13-17 años), \"Adulto\" (18-64 años) o \"Adulto mayor\" (65 años o más)."
      ],
      "metadata": {
        "id": "wItdKI47YiQi"
      }
    },
    {
      "cell_type": "code",
      "source": [
        "edad = int(input(\"Introduce la edad:\\n  \"))\n",
        "\n",
        "if edad > 0:\n",
        "  if 13 <= edad <= 17:\n",
        "    print(\"Adolescente\")\n",
        "  elif 18 <= edad <= 64:\n",
        "      print(\"Adulto\")\n",
        "  elif edad > 65:\n",
        "      print(\"Adulto mayor\")\n",
        "  else:\n",
        "      print(\"Niño\")\n",
        "else:\n",
        "  print(\"Error. la edad no puede ser negativa, intente de nuevo\")\n",
        "\n",
        "\n",
        "\n"
      ],
      "metadata": {
        "id": "DV9hSUrHYm1d",
        "colab": {
          "base_uri": "https://localhost:8080/"
        },
        "outputId": "f8343334-7041-4d88-f645-d29fc8559faa"
      },
      "execution_count": 15,
      "outputs": [
        {
          "output_type": "stream",
          "name": "stdout",
          "text": [
            "Introduce la edad:\n",
            "  69\n",
            "Adulto mayor\n"
          ]
        }
      ]
    },
    {
      "cell_type": "markdown",
      "source": [
        "**Reto 5 - Calculadora básica...**\n",
        "Ejercicio: Escribe un programa que solicite dos números y una operación (suma, resta, multiplicación, división). Luego, realiza la operación indicada."
      ],
      "metadata": {
        "id": "CoWpH5CYY9Vl"
      }
    },
    {
      "cell_type": "code",
      "source": [
        "\n",
        "num1 = float(input(\"Introduce el primer número: \"))\n",
        "num2 = float(input(\"Introduce el segundo número: \"))\n",
        "operacion = input(\"Introduce la operación (+, -, *, /): \")\n",
        "\n",
        "if operacion == \"+\":\n",
        "    resultado = num1+num2\n",
        "elif operacion == \"-\":\n",
        "    resultado = num1-num2\n",
        "elif operacion == \"*\":\n",
        "    resultado = num1*num2\n",
        "elif operacion == \"/\":\n",
        "    if num2 != 0:\n",
        "        resultado = num1 / num2\n",
        "    else:\n",
        "        resultado = \"invalido: División por cero no aceptada\"\n",
        "else:\n",
        "    print(\"Operador invalido, Intente de nuevo (+ , - , * , /)\")\n",
        "\n",
        "print(f\"El resultado es {resultado}\")"
      ],
      "metadata": {
        "id": "2hjygM7XY-Zt",
        "colab": {
          "base_uri": "https://localhost:8080/"
        },
        "outputId": "d64a3d55-266c-48ee-e358-1fc548a8d239"
      },
      "execution_count": 18,
      "outputs": [
        {
          "output_type": "stream",
          "name": "stdout",
          "text": [
            "Introduce el primer número: 2\n",
            "Introduce el segundo número: 3\n",
            "Introduce la operación (+, -, *, /): f\n",
            "Operador invalido, Intente de nuevo (+ , - , * , /)\n",
            "El resultado es Error: División por cero\n"
          ]
        }
      ]
    },
    {
      "cell_type": "markdown",
      "source": [
        "**Reto 6 - Clasificación de temperatura...**\n",
        "Ejercicio: Escribe un programa que solicite la temperatura en grados Celsius y la clasifique en \"Muy frío\" (<0), \"Frío\" (0-15), \"Templado\" (16-25), \"Caliente\" (26-35) o \"Muy caliente\" (>35)."
      ],
      "metadata": {
        "id": "iKP6SrjobaQd"
      }
    },
    {
      "cell_type": "code",
      "source": [
        "temperatura = float(input(\"Introduce la temperatura en grados Celsius: \"))\n",
        "\n",
        "if temperatura < 0:\n",
        "    print(\"Muy frío\")\n",
        "elif 0 <= temperatura <= 15:\n",
        "    print(\"Frío\")\n",
        "elif 16 <= temperatura <= 25:\n",
        "    print(\"Templado\")\n",
        "elif 26 <= temperatura <= 35:\n",
        "    print(\"Caliente\")\n",
        "else:\n",
        "    print(\"Muy caliente\")\n"
      ],
      "metadata": {
        "id": "oWIRnvvjbyVr",
        "colab": {
          "base_uri": "https://localhost:8080/"
        },
        "outputId": "ae2569f1-5d75-4ac9-fe70-d0bf4fdcef32"
      },
      "execution_count": 21,
      "outputs": [
        {
          "output_type": "stream",
          "name": "stdout",
          "text": [
            "Introduce la temperatura en grados Celsius: 16\n",
            "Templado\n"
          ]
        }
      ]
    },
    {
      "cell_type": "markdown",
      "source": [
        "**Reto 7 - Juego de adivinanza...**\n",
        "Ejercicio: Escribe un programa en el que el usuario tenga que adivinar un número secreto (definido previamente en el programa). El programa deberá decir si el número ingresado es mayor, menor o igual al número secreto."
      ],
      "metadata": {
        "id": "JAbKoMEjji2N"
      }
    },
    {
      "cell_type": "code",
      "source": [
        "import random\n",
        "\n",
        "numero_secreto = random.randint(1,10)  # Puedes cambiar este número secreto\n",
        "\n",
        "numero = int(input(\"Adivina el número secreto: \"))\n",
        "\n",
        "if numero < numero_secreto:\n",
        "    print(f\"El número secreto es {numero_secreto}, tu numero es menor al número secreto\")\n",
        "elif numero > numero_secreto:\n",
        "    print(f\"El número secreto es {numero_secreto}, tu numero es mayor al número secreto\")\n",
        "else:\n",
        "    print(f\"¡Felicidades! Adivinaste el número secreto, es : {numero_secreto}\")"
      ],
      "metadata": {
        "id": "EV5tcBXtjPK9",
        "colab": {
          "base_uri": "https://localhost:8080/"
        },
        "outputId": "d8fa6380-eb0b-40f5-b159-5226f651d2ac"
      },
      "execution_count": 28,
      "outputs": [
        {
          "output_type": "stream",
          "name": "stdout",
          "text": [
            "Adivina el número secreto: 10\n",
            "El número secreto es 8, tu numero es mayor al número secreto\n"
          ]
        }
      ]
    },
    {
      "cell_type": "markdown",
      "source": [
        "**Reto 8 - Descuento en compras...** Ejercicio: Escribe un programa que calcule el precio final de una compra aplicando un descuento. Si el total es mayor a $100, aplica un descuento del 10%"
      ],
      "metadata": {
        "id": "TDlb7CaAj0M6"
      }
    },
    {
      "cell_type": "code",
      "source": [
        "total = float(input(\"Introduce el total de la compra: \"))\n",
        "\n",
        "if total > 100:\n",
        "    descuento = total * 0.1\n",
        "    total_final = total - descuento\n",
        "else:\n",
        "    total_final = total\n",
        "\n",
        "print(f\"El total final a pagar es: {total_final}\")"
      ],
      "metadata": {
        "id": "QBsFkFj2kDcg",
        "colab": {
          "base_uri": "https://localhost:8080/"
        },
        "outputId": "ed2b9ec1-40c2-4fd5-c0b3-0426c1e1cecd"
      },
      "execution_count": 30,
      "outputs": [
        {
          "output_type": "stream",
          "name": "stdout",
          "text": [
            "Introduce el total de la compra: 50\n",
            "El total final a pagar es: 50.0\n"
          ]
        }
      ]
    },
    {
      "cell_type": "markdown",
      "source": [
        "**Reto 9 - Año bisiesto...**\n",
        "Ejercicio: Escribe un programa que determine si un año dado es bisiesto. Un año es bisiesto si es divisible por 4, pero no por 100, o si es divisible por 400."
      ],
      "metadata": {
        "id": "yMq_IEnbGZPj"
      }
    },
    {
      "cell_type": "code",
      "source": [
        "anio = int(input(\"Introduce un año: \"))\n",
        "\n",
        "if (anio % 4 == 0 and anio % 100 != 0) or (anio % 400 == 0):\n",
        "    print(f\"{anio} es un año bisiesto\")\n",
        "else:\n",
        "    print(f\"{anio} no es un año bisiesto\")"
      ],
      "metadata": {
        "id": "3udgrrLHZFhj",
        "colab": {
          "base_uri": "https://localhost:8080/"
        },
        "outputId": "92202cf7-c447-411b-b12d-7be2b4933b32"
      },
      "execution_count": 31,
      "outputs": [
        {
          "output_type": "stream",
          "name": "stdout",
          "text": [
            "Introduce un año: 2025\n",
            "2025 no es un año bisiesto\n"
          ]
        }
      ]
    },
    {
      "cell_type": "markdown",
      "source": [
        "**Reto 10 - Clasificación de nota final...**\n",
        "Ejercicio: Escribe un programa que solicite la nota final de un estudiante (0-100) y muestre su calificación según la siguiente escala:\n",
        "90-100: \"Sobresaliente\"\n",
        "80-89: \"Notable\"\n",
        "70-79: \"Aprobado\"\n",
        "60-69: \"Suficiente\"\n",
        "Menos de 60: \"Insuficiente\""
      ],
      "metadata": {
        "id": "ooFs97DiHMkD"
      }
    },
    {
      "cell_type": "code",
      "source": [
        "nota = int(input(\"Introduce la nota final (0-100): \"))\n",
        "\n",
        "if nota >= 90:\n",
        "    print(\"Sobresaliente\")\n",
        "elif 80 <= nota <= 89:\n",
        "    print(\"Notable\")\n",
        "elif 70 <= nota <= 79:\n",
        "    print(\"Aprobado\")\n",
        "elif 60 <= nota <= 69:\n",
        "    print(\"Suficiente\")\n",
        "else:\n",
        "    print(\"Insuficiente\")"
      ],
      "metadata": {
        "id": "dpG7vCTjaxmJ",
        "colab": {
          "base_uri": "https://localhost:8080/"
        },
        "outputId": "f2208eb1-d037-45fd-864a-1c3a7151224a"
      },
      "execution_count": 34,
      "outputs": [
        {
          "output_type": "stream",
          "name": "stdout",
          "text": [
            "Introduce la nota final (0-100): 71\n",
            "Aprobado\n"
          ]
        }
      ]
    },
    {
      "cell_type": "markdown",
      "source": [
        "**Reto 11 - Acceso a una zona restringida (con and)...**\n",
        "Ejercicio: Escribe un programa que solicite al usuario su edad y su identificación (sí o no). El programa debe permitir el acceso solo si el usuario tiene al menos 18 años y cuenta con una identificación válida.\n",
        "\n",
        "Optimiselo: Acepte todos los si posibles  (si, SI, sI, Si, Sí, SÍ), Pista, utilice la funcion lower() para la captura del dato."
      ],
      "metadata": {
        "id": "llejudNGHSqH"
      }
    },
    {
      "cell_type": "code",
      "source": [
        "edad = int(input(\"Introduce tu edad: \"))\n",
        "tiene_identificacion = input(\"¿Tienes una identificación válida? (sí/no): \").lower()\n",
        "\n",
        "if edad >= 18 and (tiene_identificacion == \"sí\" or tiene_identificacion == \"si\"):\n",
        "    print(\"Acceso permitido\")\n",
        "else:\n",
        "    print(\"Acceso denegado\")"
      ],
      "metadata": {
        "colab": {
          "base_uri": "https://localhost:8080/"
        },
        "id": "GP0BbDb-HZol",
        "outputId": "e39971f3-99bd-4acc-efc4-06c341051020"
      },
      "execution_count": 40,
      "outputs": [
        {
          "output_type": "stream",
          "name": "stdout",
          "text": [
            "Introduce tu edad: 18\n",
            "¿Tienes una identificación válida? (sí/no): SÍ\n",
            "Acceso permitido\n"
          ]
        }
      ]
    },
    {
      "cell_type": "markdown",
      "source": [
        "**Reto 12 - Descuento especial (con or)...**\n",
        "Ejercicio: Escribe un programa que determine si un cliente puede recibir un descuento especial. El cliente recibirá un descuento si es mayor de 65 años o si es miembro del club de fidelidad (responde \"sí\" a la pregunta)."
      ],
      "metadata": {
        "id": "5IblMDpCHkFE"
      }
    },
    {
      "cell_type": "code",
      "source": [
        "edad = int(input(\"Introduce tu edad: \"))\n",
        "es_miembro = input(\"¿Eres miembro del club de fidelidad? (sí/no): \").lower()\n",
        "\n",
        "if edad > 65 or es_miembro == \"si\" or es_miembro == \"sí\":\n",
        "    print(\"Descuento especial aplicado\")\n",
        "else:\n",
        "    print(\"No tienes derecho a un descuento especial\")"
      ],
      "metadata": {
        "id": "dJ1Qen3MHuv3",
        "colab": {
          "base_uri": "https://localhost:8080/"
        },
        "outputId": "430aa8aa-3b41-4d64-f5fa-ae6e27c00c8d"
      },
      "execution_count": 44,
      "outputs": [
        {
          "output_type": "stream",
          "name": "stdout",
          "text": [
            "Introduce tu edad: 49\n",
            "¿Eres miembro del club de fidelidad? (sí/no): sí\n",
            "Descuento especial aplicado\n"
          ]
        }
      ]
    }
  ]
}