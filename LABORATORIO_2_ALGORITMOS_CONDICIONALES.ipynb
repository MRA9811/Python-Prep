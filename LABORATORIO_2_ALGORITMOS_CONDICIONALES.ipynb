{
  "nbformat": 4,
  "nbformat_minor": 0,
  "metadata": {
    "colab": {
      "provenance": [],
      "authorship_tag": "ABX9TyMQJ2FGOXopSrkxWuyHCPKR",
      "include_colab_link": true
    },
    "kernelspec": {
      "name": "python3",
      "display_name": "Python 3"
    },
    "language_info": {
      "name": "python"
    }
  },
  "cells": [
    {
      "cell_type": "markdown",
      "metadata": {
        "id": "view-in-github",
        "colab_type": "text"
      },
      "source": [
        "<a href=\"https://colab.research.google.com/github/MRA9811/Python-Prep/blob/main/LABORATORIO_2_ALGORITMOS_CONDICIONALES.ipynb\" target=\"_parent\"><img src=\"https://colab.research.google.com/assets/colab-badge.svg\" alt=\"Open In Colab\"/></a>"
      ]
    },
    {
      "cell_type": "code",
      "execution_count": 15,
      "metadata": {
        "colab": {
          "base_uri": "https://localhost:8080/"
        },
        "id": "UNbVkJNc8tgr",
        "outputId": "52fdee35-e2e1-4e7d-b0fe-9b9939dd7f0f"
      },
      "outputs": [
        {
          "output_type": "stream",
          "name": "stdout",
          "text": [
            "Nombre 1er hermano: Juan\n",
            "Edad: 13\n",
            "Sexo (M/F): m\n",
            "Estado civil (soltero/casado): soltero\n",
            "Nombre 2do hermano luciana\n",
            "Edad: 11\n",
            "Sexo (M/F): f\n",
            "Estado civil (soltero/casado): soltera\n",
            "Nombre 3er hermano julian\n",
            "Edad: 45\n",
            "Sexo (M/F): m\n",
            "Estado civil (soltero/casado): soltero\n",
            "El hermano mayor casado es:\n",
            " No hay hermano mayor casado c: \n",
            " La hermana menor soltera es: ('luciana', 11)\n"
          ]
        }
      ],
      "source": [
        "# 1. Leer la edad, estado civil y nombre de tres hermanos e imprimir el nombre del mayor si es hombre casado, o de la menor si es mujer\n",
        "# y soltera, de lo contrario imprimir un mensaje de error.\n",
        "\n",
        "nombre1 = input(\"Nombre 1er hermano: \").strip()\n",
        "edad1 = int(input(\"Edad: \").strip())\n",
        "sexo1 = input(\"Sexo (M/F): \").strip().upper()\n",
        "estado_civil1 = input(\"Estado civil (soltero/casado): \").strip().lower()\n",
        "\n",
        "# Leer datos del segundo hermano\n",
        "nombre2 = input(\"Nombre 2do hermano \").strip()\n",
        "edad2 = int(input(\"Edad: \").strip())\n",
        "sexo2 = input(\"Sexo (M/F): \").strip().upper()\n",
        "estado_civil2 = input(\"Estado civil (soltero/casado): \").strip().lower()\n",
        "\n",
        "# Leer datos del tercer hermano\n",
        "nombre3 = input(\"Nombre 3er hermano \").strip()\n",
        "edad3 = int(input(\"Edad: \").strip())\n",
        "sexo3 = input(\"Sexo (M/F): \").strip().upper()\n",
        "estado_civil3 = input(\"Estado civil (soltero/casado): \").strip().lower()\n",
        "\n",
        "# Determinar el hermano mayor casado\n",
        "if sexo1 == \"M\" and estado_civil1 == \"casado\":\n",
        "    mayor_casado = (nombre1, edad1)\n",
        "elif sexo2 == \"M\" and estado_civil2 == \"casado\" and edad2 > edad1:\n",
        "    mayor_casado = (nombre2, edad2)\n",
        "elif sexo3 == \"M\" and estado_civil3 == \"casado\" and edad3 > edad2:\n",
        "    mayor_casado = (nombre3, edad3)\n",
        "else:\n",
        "    mayor_casado = (\"No hay hermano mayor casado c:\")\n",
        "\n",
        "# Determinar la hermana menor soltera\n",
        "\n",
        "if sexo1 == \"F\" and estado_civil1 == \"soltera\":\n",
        "    hermana_menor = (nombre1, edad1)\n",
        "elif sexo2 == \"F\" and estado_civil2 == \"soltera\" and edad2 < edad1:\n",
        "    hermana_menor = (nombre2, edad2)\n",
        "elif sexo3 == \"F\" and estado_civil3 == \"soltera\" and edad3 < edad2:\n",
        "    hermana_menor = (nombre3, edad3)\n",
        "else:\n",
        "    hermana_menor = (\"No hay hermana menor soltera :c\")\n",
        "\n",
        "\n",
        "# Mostrar el resultado\n",
        "print(f\"El hermano mayor casado es:\\n {mayor_casado} \\n La hermana menor soltera es: {hermana_menor}\")\n",
        "\n"
      ]
    },
    {
      "cell_type": "code",
      "source": [
        "# 2. Necesitamos hacer un programa el cual indique si un número es negativo y convertirlo\n",
        "#a positivo; si es positivo a negativo o si es igual a cero, imprima “No divisible”\n",
        "\n",
        "num = float(input(\"Introduce un número: \"))\n",
        "\n",
        "if num < 0:\n",
        "    resultado = abs(num)\n",
        "    print(f\"Este número es negativo. En positivo será: {resultado}\")\n",
        "elif num > 0:\n",
        "    resultado = -num\n",
        "    print(f\"Este numero es positivo. En negativo será: {resultado}\")\n",
        "else:\n",
        "    print(\"No divisible\")\n"
      ],
      "metadata": {
        "colab": {
          "base_uri": "https://localhost:8080/"
        },
        "id": "KQ4OjyXXBZ1Q",
        "outputId": "1adf7ee4-66ca-4b1c-8840-3aaf11c2d37c"
      },
      "execution_count": 16,
      "outputs": [
        {
          "output_type": "stream",
          "name": "stdout",
          "text": [
            "Introduce un número: 0\n",
            "No divisible\n"
          ]
        }
      ]
    },
    {
      "cell_type": "code",
      "source": [
        "# 3. Necesitamos leer los lados de un triángulo y determinar si es triángulo equilátero\n",
        "# (tres lados iguales), isósceles (dos lados iguales) o escaleno (tres lados diferentes).\n",
        "\n",
        "\n",
        "lado1 = float(input(\"Introduce el primer lado del triangulo: \"))\n",
        "lado2 = float(input(\"Introduce el segundo lado: \"))\n",
        "lado3 = float(input(\"Introduce el tercer lado: \"))\n",
        "\n",
        "if lado1 + lado2 > lado3 and lado1 + lado3 > lado2 and lado2 + lado3 > lado1:\n",
        "\n",
        "    if lado1 == lado2 == lado3:\n",
        "        print(\"El triangulo es equilatero.\")\n",
        "    elif lado1 == lado2 or lado1 == lado3 or lado2 == lado3:\n",
        "        print(\"El triangulo es isosceles\")\n",
        "    else:\n",
        "        print(\"El triangulo es escaleno (tres lados diferentes).\")\n",
        "else:\n",
        "    print(\"Los lados no forman un triangulo, intente de nuevo\")\n",
        "\n"
      ],
      "metadata": {
        "id": "sOVye_HmIWBX"
      },
      "execution_count": null,
      "outputs": []
    },
    {
      "cell_type": "code",
      "source": [
        "# 4. Crear un programa que lea dos números e imprima la suma sólo si son positivos, imprima el producto si uno de ellos es negativo e imprima la resta del mayor por el menor\n",
        "# si son negativos. Si son iguales, imprimir la potencia y si alguno es igual a cero imprimir un mensaje de error: “operación inválida”.\n",
        "\n",
        "\n",
        "num1 = float(input(\"Introduce el 1er numero: \"))\n",
        "num2 = float(input(\"Introduce el 2do numero: \"))\n",
        "\n",
        "if num1 == 0 or num2 == 0:\n",
        "    print(\"operación inválida\")\n",
        "\n",
        "elif num1 > 0 and num2 > 0:\n",
        "    print(f\"La suma es: {num1 + num2}\")\n",
        "\n",
        "elif num1 < 0 and num2 > 0 or num1 > 0 and num2 < 0:\n",
        "    print(f\"El producto es: {num1 * num2}\")\n",
        "\n",
        "elif num1 < 0 and num2 < 0:\n",
        "    print(f\"La resta es: {max(num1, num2) - min(num1, num2)}\")\n",
        "\n",
        "elif num1 == num2:\n",
        "    print(f\"La potencia es: {num1 ** num2}\")\n"
      ],
      "metadata": {
        "id": "6CsQZDdbJOfG"
      },
      "execution_count": 17,
      "outputs": []
    },
    {
      "cell_type": "code",
      "source": [
        "# 5. Desarrollar un algoritmo que permita leer tres números y si son diferentes, mostrarlos en orden descendente.\n",
        "\n",
        "num1 = float(input(\"Introduce el 1er numero: \"))\n",
        "num2 = float(input(\"Introduce el 2do numero: \"))\n",
        "num3 = float(input(\"Introduce el 3er numero: \"))\n",
        "\n",
        "#PENDIENTE\n"
      ],
      "metadata": {
        "id": "5Yi4NGU2Jijp"
      },
      "execution_count": null,
      "outputs": []
    },
    {
      "cell_type": "code",
      "source": [
        "# 6. Hacer un programa que pida dos números y se dé cuenta cuál de ellos es par o si ambos lo son\n",
        "\n",
        "num1 = int(input(\"Introduce el 1er numero: \"))\n",
        "num2 = int(input(\"Introduce el 2do numero: \"))\n",
        "\n",
        "if num1 % 2 == 0 and num2 % 2 == 0:\n",
        "    print(\"Ambos numeros son pares.\")\n",
        "elif num1 % 2 == 0:\n",
        "    print(f\"El numero {num1} es par y el numero {num2} es impar.\")\n",
        "elif num2 % 2 == 0:\n",
        "    print(f\"El numero {num2} es par y el numero {num1} es impar.\")\n",
        "else:\n",
        "    print(\"Ambos numeros son impares.\")\n"
      ],
      "metadata": {
        "id": "SdQRl4feMKE6"
      },
      "execution_count": 18,
      "outputs": []
    },
    {
      "cell_type": "code",
      "source": [
        "# 7. Dada la nota definitiva de un estudiante, determinar si el promedio es bajo (nota < 3.0),\n",
        "#si obtuvo aceptable (nota >= 3.0 y nota <4.0), sobresaliente (nota >=4.0 y nota <=4.5) o excelente (nota > 5.0).\n",
        "#Verificar al iniciar que la nota esté en el rango correcto (0.0 a 5.0)\n",
        "\n",
        "nota = float(input(\"Introduce la nota definitiva (0.0 - 5.0): \"))\n",
        "\n",
        "if 0.0 <= nota <= 5.0:\n",
        "    if nota < 3.0:\n",
        "        print(\"Promedio bajo\")\n",
        "    elif nota < 4.0:\n",
        "        print(\"Aceptable\")\n",
        "    elif nota <= 4.5:\n",
        "        print(\"Sobresaliente\")\n",
        "    elif nota > 4.5:\n",
        "        print(\"Excelente\")\n",
        "else:\n",
        "    print(\"Debe estar entre 0.0 y 5.0.\")\n"
      ],
      "metadata": {
        "id": "3KVrEkJCMWzL"
      },
      "execution_count": 19,
      "outputs": []
    },
    {
      "cell_type": "code",
      "source": [
        "# 8. Desarrollar un algoritmo que permita leer la edad de una persona, si es menor de 12 mostrar\n",
        "# “Escuela básica”, si es mayor o igual a 12 y menor o igual a 18, mostrar “Nivel secundario”, si es mayor de 18 y menor o igual a 24 mostrar “Educación Superior” y\n",
        "# si es mayor de 25, mostrar “Educación Posgraduada”.\n",
        "\n",
        "\n",
        "edad = int(input(\"Introduce tu edad: \"))\n",
        "\n",
        "if edad < 12:\n",
        "    print(\"Escuela basica\")\n",
        "elif 12 <= edad <= 18:\n",
        "    print(\"Nivel secundario\")\n",
        "elif 19 <= edad <= 24:\n",
        "    print(\"Educacion superior\")\n",
        "else:\n",
        "    print(\"Educacion posgraduada\")\n"
      ],
      "metadata": {
        "id": "zc9VJQseO0O9"
      },
      "execution_count": null,
      "outputs": []
    },
    {
      "cell_type": "code",
      "source": [
        "# 9. En un registro se encuentra el documento de identidad, número de horas trabajadas mensuales y salario básico hora de un empleado.\n",
        "#Si su SB >= dos salarios mínimos legales vigentes (SMLV) hacerle una retención por Seguridad Social de 5%. Si el salario es menor de dos SMLV,\n",
        "#hacerle una retención del 3% Si el salario es igual a un SMLV, tiene una retención del 1% y se le da subsidio de transporte.\n",
        "#Se desea calcular el salario neto de este empleado (básico menos deducciones, más subsidios). El SMLV en el 2024 es de 1.300.000– Auxilio de Transporte $ 162.000.\n",
        "\n",
        "\n",
        "SMLV = 1300000\n",
        "AUX_TRANSPORTE = 162000\n",
        "\n",
        "\n",
        "documento = input(\"Ingrese el documento de identidad: \").strip()\n",
        "horas_trabajadas = float(input(\"Ingrese el número de horas trabajadas mensuales: \"))\n",
        "salario_hora = float(input(\"Ingrese el salario básico por hora: \"))\n",
        "\n",
        "salario_basico = horas_trabajadas * salario_hora\n",
        "\n",
        "if salario_basico >= 2 * SMLV:\n",
        "    retencion = salario_basico * 0.05\n",
        "    subsidio = 0\n",
        "elif salario_basico < 2 * SMLV and salario_basico > SMLV:\n",
        "    retencion = salario_basico * 0.03\n",
        "    subsidio = 0\n",
        "elif salario_basico == SMLV:\n",
        "    retencion = salario_basico * 0.01\n",
        "    subsidio = AUX_TRANSPORTE\n",
        "else:\n",
        "    retencion = 0\n",
        "    subsidio = 0\n",
        "\n",
        "salario_neto = salario_basico - retencion + subsidio #NETO\n",
        "\n",
        "\n",
        "print(salario_neto)\n",
        "\n",
        "\n",
        "\n"
      ],
      "metadata": {
        "colab": {
          "base_uri": "https://localhost:8080/"
        },
        "id": "Nloj_z1RPiau",
        "outputId": "c7494364-6a3c-44e0-b21b-ea3b8828273a"
      },
      "execution_count": 20,
      "outputs": [
        {
          "output_type": "stream",
          "name": "stdout",
          "text": [
            "Ingrese el documento de identidad: 3916155\n",
            "Ingrese el número de horas trabajadas mensuales: 8\n",
            "Ingrese el salario básico por hora: 2300000\n",
            "17480000.0\n"
          ]
        }
      ]
    },
    {
      "cell_type": "code",
      "source": [
        "# 10.Una tienda de libros vende sus libros de acuerdo a las siguientes especificaciones: Precio base de $25000,\n",
        "#si el número de páginas es más 100 y menos de 200 $50 por cada página, entre 200 y 300 páginas $30 de recargo; $10 de recargo por cada\n",
        "#página si el número de páginas es mayor de 300. Realizar un algoritmo que calcule el precio del libro y lo imprima con su nombre.\n",
        "# Se lee el nombre del libro y el número de hojas (la hoja tiene 2 páginas).\n",
        "\n",
        "\n",
        "PRECIO_LIBRO = 25000\n",
        "\n",
        "\n",
        "nombre_libro = input(\"Ingrese el nombre del libro: \").strip()\n",
        "nro_hojas = int(input(\"Ingrese el numero de hojas: \"))\n",
        "\n",
        "\n",
        "nro_paginas = nro_hojas * 2\n",
        "\n",
        "precio_final = PRECIO_LIBRO\n",
        "\n",
        "if 100 < nro_paginas < 200:\n",
        "    precio_final += 50 * nro_paginas\n",
        "elif 200 <= nro_paginas <= 300:\n",
        "    precio_final += 30 * nro_paginas\n",
        "elif nro_paginas > 300:\n",
        "    precio_final += 10 * nro_paginas\n",
        "\n",
        "print(f\"Nombre del libro: {nombre_libro}\")\n",
        "print(f\"# Pgs.: {nro_paginas}\")\n",
        "print(f\"Su total es: ${precio_final}\")\n"
      ],
      "metadata": {
        "colab": {
          "base_uri": "https://localhost:8080/"
        },
        "id": "Z2FiLey1RRm3",
        "outputId": "914d876e-9d33-49c3-da4a-daf587ac4a20"
      },
      "execution_count": 22,
      "outputs": [
        {
          "output_type": "stream",
          "name": "stdout",
          "text": [
            "Ingrese el nombre del libro: ROMEO & JULIETA\n",
            "Ingrese el numero de hojas: 200\n",
            "Nombre del libro: ROMEO & JULIETA\n",
            "# Pgs.: 400\n",
            "Su total es: $29000\n"
          ]
        }
      ]
    },
    {
      "cell_type": "code",
      "source": [],
      "metadata": {
        "id": "sSeD6-K3UzqU"
      },
      "execution_count": null,
      "outputs": []
    }
  ]
}