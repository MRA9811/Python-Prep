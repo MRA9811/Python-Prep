{
  "nbformat": 4,
  "nbformat_minor": 0,
  "metadata": {
    "colab": {
      "provenance": [],
      "authorship_tag": "ABX9TyNSPj4KxsGoydtolBpEHaoP",
      "include_colab_link": true
    },
    "kernelspec": {
      "name": "python3",
      "display_name": "Python 3"
    },
    "language_info": {
      "name": "python"
    }
  },
  "cells": [
    {
      "cell_type": "markdown",
      "metadata": {
        "id": "view-in-github",
        "colab_type": "text"
      },
      "source": [
        "<a href=\"https://colab.research.google.com/github/MRA9811/Python-Prep/blob/main/Semana_1_Reto_operadores.ipynb\" target=\"_parent\"><img src=\"https://colab.research.google.com/assets/colab-badge.svg\" alt=\"Open In Colab\"/></a>"
      ]
    },
    {
      "cell_type": "code",
      "execution_count": 17,
      "metadata": {
        "colab": {
          "base_uri": "https://localhost:8080/"
        },
        "id": "bhbOO4lsFBDs",
        "outputId": "4750ca0e-0914-4eae-950f-a5ad8a3eed04"
      },
      "outputs": [
        {
          "output_type": "stream",
          "name": "stdout",
          "text": [
            "Ingrese un numero: \n",
            "10\n",
            "Ingrese un numero: \n",
            "100\n",
            "a continuacion se comparten los resultados:\n",
            " SUMA: 110\n",
            " RESTA: -90\n",
            " PRODUCTO: 1000\n",
            " COCIENTE: 10\n"
          ]
        }
      ],
      "source": [
        "a = int(input(\"Ingrese un numero: \\n\"))\n",
        "b = int(input(\"Ingrese un numero: \\n\"))\n",
        "\n",
        "#OPERADORES ARITMETICOS\n",
        "suma=a+b\n",
        "resta=a-b\n",
        "producto=a*b\n",
        "cociente=a%b\n",
        "\n",
        "print(f\"a continuacion se comparten los resultados:\\n SUMA: {suma}\\n RESTA: {resta}\\n PRODUCTO: {producto}\\n COCIENTE: {cociente}\")"
      ]
    },
    {
      "cell_type": "code",
      "source": [
        "print(\"Se ejecutara un programa para comparar los numeros que ingreses a continuacion\")\n",
        "X=input(\"ingrese un numero:\\n\")\n",
        "Y=input(\"ingrese otro numero para la comparacion:\\n\")\n",
        "#Escribe un programa que compare dos números y determine si son iguales o si uno es mayor que el otro.\n",
        "\n",
        "if X > Y:\n",
        "  print(f\"{X} Es mayor a {Y} ༼ つ ◕_◕ ༽つ\")\n",
        "elif X < Y:\n",
        "  print(f\"{X} Es menor a {Y} ༼ つ ◕_◕ ༽つ\")\n",
        "else:\n",
        "  print(\"Los numeros que has ingresado son iguales \")"
      ],
      "metadata": {
        "colab": {
          "base_uri": "https://localhost:8080/"
        },
        "id": "1o1lZ40uH47p",
        "outputId": "d36629d4-d277-40de-d13d-27978fafe995"
      },
      "execution_count": 26,
      "outputs": [
        {
          "output_type": "stream",
          "name": "stdout",
          "text": [
            "Se ejecutara un programa para comparar los numeros que ingreses a continuacion\n",
            "ingrese un numero:\n",
            "2\n",
            "ingrese otro numero para la comparacion:\n",
            "3\n",
            "2 Es menor a 3 ༼ つ ◕_◕ ༽つ\n"
          ]
        }
      ]
    },
    {
      "cell_type": "code",
      "source": [
        "X=5\n",
        "X+=5\n",
        "X*=2\n",
        "X-=7\n",
        "\n",
        "print(X)"
      ],
      "metadata": {
        "colab": {
          "base_uri": "https://localhost:8080/"
        },
        "id": "GM5Tp0X9JTao",
        "outputId": "6e32e037-c630-4d9c-ece4-a751dff00fdb"
      },
      "execution_count": 32,
      "outputs": [
        {
          "output_type": "stream",
          "name": "stdout",
          "text": [
            "13\n"
          ]
        }
      ]
    },
    {
      "cell_type": "code",
      "source": [
        "import math\n",
        "\n",
        "radio = float(input(\"Ingrese el radio del circulo: \"))\n",
        "\n",
        "area = math.pi * (radio ** 2)\n",
        "print(f\"El área del círculo con radio {radio} es: {area:.2f}\")"
      ],
      "metadata": {
        "colab": {
          "base_uri": "https://localhost:8080/"
        },
        "id": "KKFQGCTiLzHi",
        "outputId": "58fa70ea-d25b-4a2e-dbf2-0de02757d56d"
      },
      "execution_count": 33,
      "outputs": [
        {
          "output_type": "stream",
          "name": "stdout",
          "text": [
            "Ingrese el radio del circulo: 5\n",
            "El área del círculo con radio 5.0 es: 78.54\n"
          ]
        }
      ]
    },
    {
      "cell_type": "code",
      "source": [
        "celsius = float(input(\"Ingrese la temperatura en grados Celsius: \"))\n",
        "farenheit=(celsius * 9/5) + 32\n",
        "print(f\"{celsius}°C equivale a {farenheit}°F\")"
      ],
      "metadata": {
        "colab": {
          "base_uri": "https://localhost:8080/"
        },
        "id": "rrf9AttIL7i2",
        "outputId": "06ec28d2-b43f-4887-8906-831216c7a553"
      },
      "execution_count": 39,
      "outputs": [
        {
          "output_type": "stream",
          "name": "stdout",
          "text": [
            "Ingrese la temperatura en grados Celsius: 70\n",
            "70.0°C equivale a 158.0°F\n"
          ]
        }
      ]
    },
    {
      "cell_type": "code",
      "source": [
        "x=int(input(\"ingrese un numero: \"))\n",
        "y=int(input(\"Ingrese el % de aumento: \"))\n",
        "\n",
        "Result= x*(1+(y/100))\n",
        "\n",
        "print(Result)"
      ],
      "metadata": {
        "colab": {
          "base_uri": "https://localhost:8080/"
        },
        "id": "-Z6bfHzbNbfG",
        "outputId": "5734c551-5aa9-4d89-accd-3959a3ac362d"
      },
      "execution_count": 50,
      "outputs": [
        {
          "output_type": "stream",
          "name": "stdout",
          "text": [
            "ingrese un numero: 150\n",
            "Ingrese el % de aumento: 50\n",
            "225.0\n"
          ]
        }
      ]
    },
    {
      "cell_type": "code",
      "source": [
        "import statistics\n",
        "num1 = float(input(\"Ingrese el 1er número: \"))\n",
        "num2 = float(input(\"Ingrese el 2do número: \"))\n",
        "num3 = float(input(\"Ingrese el 3er número: \"))\n",
        "\n",
        "Avrg=statistics.mean([num1,num2,num3])\n",
        "print(f\"\\nEl promedio de los tres números es: {Avrg}\")\n",
        "\n",
        "if Avrg > 10:\n",
        "    print(\"El promedio es mayor que 10\")\n",
        "elif Avrg < 10:\n",
        "    print(\"El promedio es menor que 10\")\n",
        "else:\n",
        "    print(\"El promedio es igual a 10\")\n"
      ],
      "metadata": {
        "colab": {
          "base_uri": "https://localhost:8080/"
        },
        "id": "LtchKo_-Qgi3",
        "outputId": "326550ee-1a8b-4940-b2a2-22168d248c22"
      },
      "execution_count": 57,
      "outputs": [
        {
          "output_type": "stream",
          "name": "stdout",
          "text": [
            "Ingrese el 1er número: 3\n",
            "Ingrese el 2do número: 3\n",
            "Ingrese el 3er número: 3\n",
            "\n",
            "El promedio de los tres números es: 3.0\n",
            "El promedio es menor que 10\n"
          ]
        }
      ]
    },
    {
      "cell_type": "code",
      "source": [],
      "metadata": {
        "id": "uUS081UrQ04t"
      },
      "execution_count": null,
      "outputs": []
    }
  ]
}